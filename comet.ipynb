{
 "cells": [
  {
   "cell_type": "code",
   "execution_count": 3,
   "metadata": {},
   "outputs": [],
   "source": [
    "## import comet_ml at the top of your file\n",
    "from comet_ml import Experiment"
   ]
  },
  {
   "cell_type": "code",
   "execution_count": 13,
   "metadata": {},
   "outputs": [
    {
     "name": "stderr",
     "output_type": "stream",
     "text": [
      "\u001b[1;38;5;214mCOMET WARNING:\u001b[0m As you are running in a Jupyter environment, you will need to call `experiment.end()` when finished to ensure all metrics and code are logged before exiting.\n",
      "\u001b[1;38;5;214mCOMET WARNING:\u001b[0m Failed to check backend version at URL: 'https://www.comet.com/clientlib/isAlive/ver'\n",
      "\u001b[1;38;5;196mCOMET ERROR:\u001b[0m Run will not be logged \n",
      "For more details, please refer to: https://www.comet.com/docs/v2/api-and-sdk/python-sdk/warnings-errors/\n",
      "urllib3.exceptions.SSLError: TLS/SSL connection has been closed (EOF) (_ssl.c:1131)\n",
      "\n",
      "The above exception was the direct cause of the following exception:\n",
      "\n",
      "urllib3.exceptions.ProxyError: ('Unable to connect to proxy', SSLError(SSLZeroReturnError(6, 'TLS/SSL connection has been closed (EOF) (_ssl.c:1131)')))\n",
      "\n",
      "The above exception was the direct cause of the following exception:\n",
      "\n",
      "Traceback (most recent call last):\n",
      "  File \"e:\\ProgSoftware\\Anaconda\\envs\\EnLSTM-main\\lib\\site-packages\\requests\\adapters.py\", line 486, in send\n",
      "    resp = conn.urlopen(\n",
      "  File \"e:\\ProgSoftware\\Anaconda\\envs\\EnLSTM-main\\lib\\site-packages\\urllib3\\connectionpool.py\", line 877, in urlopen\n",
      "    body,\n",
      "  File \"e:\\ProgSoftware\\Anaconda\\envs\\EnLSTM-main\\lib\\site-packages\\urllib3\\connectionpool.py\", line 877, in urlopen\n",
      "    body,\n",
      "  File \"e:\\ProgSoftware\\Anaconda\\envs\\EnLSTM-main\\lib\\site-packages\\urllib3\\connectionpool.py\", line 877, in urlopen\n",
      "    body,\n",
      "  File \"e:\\ProgSoftware\\Anaconda\\envs\\EnLSTM-main\\lib\\site-packages\\urllib3\\connectionpool.py\", line 847, in urlopen\n",
      "    retries.sleep()\n",
      "  File \"e:\\ProgSoftware\\Anaconda\\envs\\EnLSTM-main\\lib\\site-packages\\urllib3\\util\\retry.py\", line 515, in increment\n",
      "    raise MaxRetryError(_pool, url, reason) from reason  # type: ignore[arg-type]\n",
      "urllib3.exceptions.MaxRetryError: HTTPSConnectionPool(host='www.comet.com', port=443): Max retries exceeded with url: /clientlib/logger/add/run (Caused by ProxyError('Unable to connect to proxy', SSLError(SSLZeroReturnError(6, 'TLS/SSL connection has been closed (EOF) (_ssl.c:1131)'))))\n",
      "\n",
      "During handling of the above exception, another exception occurred:\n",
      "\n",
      "Traceback (most recent call last):\n",
      "  File \"e:\\ProgSoftware\\Anaconda\\envs\\EnLSTM-main\\lib\\site-packages\\comet_ml\\experiment.py\", line 1031, in _start\n",
      "    self.alive = self._setup_streamer()\n",
      "  File \"e:\\ProgSoftware\\Anaconda\\envs\\EnLSTM-main\\lib\\site-packages\\comet_ml\\_online.py\", line 321, in _setup_streamer\n",
      "    results = self._authenticate()\n",
      "  File \"e:\\ProgSoftware\\Anaconda\\envs\\EnLSTM-main\\lib\\site-packages\\comet_ml\\_online.py\", line 407, in _authenticate\n",
      "    run_id_response = self._get_run_id()\n",
      "  File \"e:\\ProgSoftware\\Anaconda\\envs\\EnLSTM-main\\lib\\site-packages\\comet_ml\\_online.py\", line 448, in _get_run_id\n",
      "    return self.connection.get_run_id(self.project_name, self.workspace)\n",
      "  File \"e:\\ProgSoftware\\Anaconda\\envs\\EnLSTM-main\\lib\\site-packages\\comet_ml\\connection.py\", line 737, in get_run_id\n",
      "    r = self._low_level_http_client.post(\n",
      "  File \"e:\\ProgSoftware\\Anaconda\\envs\\EnLSTM-main\\lib\\site-packages\\comet_ml\\connection.py\", line 449, in post\n",
      "    return self.do(\n",
      "  File \"e:\\ProgSoftware\\Anaconda\\envs\\EnLSTM-main\\lib\\site-packages\\comet_ml\\connection.py\", line 555, in do\n",
      "    response = session.request(\n",
      "  File \"e:\\ProgSoftware\\Anaconda\\envs\\EnLSTM-main\\lib\\site-packages\\requests\\sessions.py\", line 589, in request\n",
      "    resp = self.send(prep, **send_kwargs)\n",
      "  File \"e:\\ProgSoftware\\Anaconda\\envs\\EnLSTM-main\\lib\\site-packages\\requests\\sessions.py\", line 703, in send\n",
      "    r = adapter.send(request, **kwargs)\n",
      "  File \"e:\\ProgSoftware\\Anaconda\\envs\\EnLSTM-main\\lib\\site-packages\\requests\\adapters.py\", line 513, in send\n",
      "    raise ProxyError(e, request=request)\n",
      "requests.exceptions.ProxyError: HTTPSConnectionPool(host='www.comet.com', port=443): Max retries exceeded with url: /clientlib/logger/add/run (Caused by ProxyError('Unable to connect to proxy', SSLError(SSLZeroReturnError(6, 'TLS/SSL connection has been closed (EOF) (_ssl.c:1131)'))))\n"
     ]
    }
   ],
   "source": [
    "experiment = Experiment(\n",
    "    api_key = \"w9z2jMikkCGUFnqrVmTtWrtZU\",\n",
    "    project_name = \"EnLSTM\",\n",
    "    workspace = \"lumisong\"\n",
    ")\n",
    "\n",
    "metrics = {'accuracy': 0.9, 'loss': 0.01}\n",
    "experiment.log_metrics(metrics, step=1)"
   ]
  },
  {
   "cell_type": "code",
   "execution_count": 9,
   "metadata": {},
   "outputs": [
    {
     "name": "stdout",
     "output_type": "stream",
     "text": [
      "OpenSSL 3.2.1 30 Jan 2024\n"
     ]
    }
   ],
   "source": [
    "import ssl\n",
    "print(ssl.OPENSSL_VERSION)"
   ]
  },
  {
   "cell_type": "code",
   "execution_count": 10,
   "metadata": {},
   "outputs": [
    {
     "name": "stdout",
     "output_type": "stream",
     "text": [
      "# packages in environment at E:\\ProgSoftware\\Anaconda\\envs\\EnLSTM-main:\n",
      "#\n",
      "# Name                    Version                   Build  Channel\n",
      "urllib3                   2.2.1                    pypi_0    pypi\n"
     ]
    }
   ],
   "source": [
    "!conda list urllib3"
   ]
  },
  {
   "cell_type": "code",
   "execution_count": 11,
   "metadata": {},
   "outputs": [
    {
     "name": "stdout",
     "output_type": "stream",
     "text": [
      "# packages in environment at E:\\ProgSoftware\\Anaconda\\envs\\EnLSTM-main:\n",
      "#\n",
      "# Name                    Version                   Build  Channel\n",
      "ca-certificates           2023.12.12           haa95532_0    defaults\n",
      "certifi                   2024.2.2         py38haa95532_0    defaults\n",
      "# packages in environment at E:\\ProgSoftware\\Anaconda\\envs\\EnLSTM-main:\n",
      "#\n",
      "# Name                    Version                   Build  Channel\n",
      "# packages in environment at E:\\ProgSoftware\\Anaconda\\envs\\EnLSTM-main:\n",
      "#\n",
      "# Name                    Version                   Build  Channel\n",
      "idna                      3.6                      pypi_0    pypi\n",
      "# packages in environment at E:\\ProgSoftware\\Anaconda\\envs\\EnLSTM-main:\n",
      "#\n",
      "# Name                    Version                   Build  Channel\n"
     ]
    }
   ],
   "source": [
    "!conda list certifi\n",
    "!conda list chardet\n",
    "!conda list idna\n",
    "!conda list cryptography\n"
   ]
  },
  {
   "cell_type": "code",
   "execution_count": 12,
   "metadata": {},
   "outputs": [
    {
     "name": "stdout",
     "output_type": "stream",
     "text": [
      "Name: certifi\n",
      "Version: 2024.2.2\n",
      "Summary: Python package for providing Mozilla's CA Bundle.\n",
      "Home-page: https://github.com/certifi/python-certifi\n",
      "Author: Kenneth Reitz\n",
      "Author-email: me@kennethreitz.com\n",
      "License: MPL-2.0\n",
      "Location: e:\\progsoftware\\anaconda\\envs\\enlstm-main\\lib\\site-packages\n",
      "Requires: \n",
      "Required-by: requests, sentry-sdk\n",
      "---\n",
      "Name: idna\n",
      "Version: 3.4\n",
      "Summary: Internationalized Domain Names in Applications (IDNA)\n",
      "Home-page: \n",
      "Author: \n",
      "Author-email: Kim Davies <kim@cynosure.com.au>\n",
      "License: \n",
      "Location: e:\\progsoftware\\anaconda\\envs\\enlstm-main\\lib\\site-packages\n",
      "Requires: \n",
      "Required-by: requests\n"
     ]
    },
    {
     "name": "stderr",
     "output_type": "stream",
     "text": [
      "WARNING: Package(s) not found: chardet, cryptography\n"
     ]
    }
   ],
   "source": [
    "!pip show certifi chardet idna cryptography\n"
   ]
  },
  {
   "cell_type": "code",
   "execution_count": null,
   "metadata": {},
   "outputs": [],
   "source": []
  }
 ],
 "metadata": {
  "kernelspec": {
   "display_name": "EnLSTM-main",
   "language": "python",
   "name": "python3"
  },
  "language_info": {
   "codemirror_mode": {
    "name": "ipython",
    "version": 3
   },
   "file_extension": ".py",
   "mimetype": "text/x-python",
   "name": "python",
   "nbconvert_exporter": "python",
   "pygments_lexer": "ipython3",
   "version": "3.8.12"
  }
 },
 "nbformat": 4,
 "nbformat_minor": 2
}
